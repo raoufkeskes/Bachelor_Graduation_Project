{
 "cells": [
  {
   "cell_type": "markdown",
   "metadata": {},
   "source": [
    "**Indiquer dans la boîte ci-dessous vos noms et prénoms**"
   ]
  },
  {
   "cell_type": "markdown",
   "metadata": {},
   "source": [
    "Abdelraouf KESKES"
   ]
  },
  {
   "cell_type": "markdown",
   "metadata": {},
   "source": [
    "# 3I026 - Intelligence artificielle & Data science\n",
    "\n",
    "## TP 2 - k-plus proches voisins (*k-NN*)"
   ]
  },
  {
   "cell_type": "markdown",
   "metadata": {},
   "source": [
    "Dans ce TP, nous allons principalement mettre en place une \"architecture\" de code nous permettant petit à petit de tester différents modèles d'apprentissage supervisé et programmer les k-NN. Nous allons nous restreindre au cas binaire où les données sont étiquetées $+1$ ou $-1$."
   ]
  },
  {
   "cell_type": "code",
   "execution_count": 6,
   "metadata": {
    "collapsed": true
   },
   "outputs": [],
   "source": [
    "import numpy as np\n",
    "import pandas as pd"
   ]
  },
  {
   "cell_type": "markdown",
   "metadata": {},
   "source": [
    "**Remarque** La concaténation de vecteurs s'obtient à l'aide de la fonction `vstack` de numpy."
   ]
  },
  {
   "cell_type": "markdown",
   "metadata": {},
   "source": [
    "### Étape 1: dataset\n",
    "\n",
    "La première étape consiste à définir une classe permettant de stocker les données d'apprentissage, de validation et de test. Nous considérerons que les données tiennent en mémoire. Nous allons définir une classe permettant de stocker des couples $\\{(x_1,y_1),...,(x_n,y_n)\\}$. Les $x_i$ et $y_i$ seront des tableaux numpy."
   ]
  },
  {
   "cell_type": "code",
   "execution_count": 7,
   "metadata": {
    "collapsed": true
   },
   "outputs": [],
   "source": [
    "class LabeledSet:  \n",
    "    \n",
    "    def __init__(self, input_dimension):\n",
    "        self.input_dimension = input_dimension\n",
    "        self.nb_examples = 0\n",
    "    \n",
    "    def addExample(self,vector,label):\n",
    "        if (self.nb_examples == 0):\n",
    "            self.x = np.array([vector])\n",
    "            self.y = np.array([label])\n",
    "        else:\n",
    "            self.x = np.vstack((self.x, vector))\n",
    "            self.y = np.vstack((self.y, label))\n",
    "        \n",
    "        self.nb_examples = self.nb_examples + 1\n",
    "    \n",
    "    #Renvoie la dimension de l'espace d'entrée\n",
    "    def getInputDimension(self):\n",
    "        return self.input_dimension\n",
    "    \n",
    "    #Renvoie le nombre d'exemples dans le set\n",
    "    def size(self):\n",
    "        return self.nb_examples\n",
    "    \n",
    "    #Renvoie la valeur de x_i\n",
    "    def getX(self, i):\n",
    "        return self.x[i]\n",
    "        \n",
    "    \n",
    "    #Renvouie la valeur de y_i\n",
    "    def getY(self, i):\n",
    "        return(self.y[i])"
   ]
  },
  {
   "cell_type": "markdown",
   "metadata": {},
   "source": [
    "#### Génération de données ''Jouet''\n",
    "\n",
    "Nous allons pour l'instant nous intéresser à des datasets \"jouet\" générés selon des distributions choisies à la main. Commençons par un dataset en 2 dimensions (entrée) et 1 dimension (sortie): $x_i \\in \\mathbb{R}^2$, $y_i \\in \\{-1;+1\\}$ tel que les données sont générées selon deux gaussiennes. Pour cela, nous utiliserons la fonction `numpy.random.multivariate_normal` - http://docs.scipy.org/doc/numpy/reference/generated/numpy.random.multivariate_normal.html\n",
    "\n",
    "- `positive_center` est le centre de la gaussienne des points positifs (vecteur de taille 2)\n",
    "- `positive_sigma` est la variance de la gaussienne (sous forme de matrice 2*2)\n",
    "- Idem pour `negative`\n",
    "\n",
    "Générer une premiere gaussienne associée au label $+1$.\n",
    "\n",
    "Y ajouter une seconde gaussienne associée au label $-1$."
   ]
  },
  {
   "cell_type": "code",
   "execution_count": 8,
   "metadata": {
    "collapsed": true
   },
   "outputs": [],
   "source": [
    "import matplotlib.pyplot as plt\n",
    "\n",
    "#Positive\n",
    "positive_center = [20, 20]\n",
    "positive_sigma = [[10, 0], [0, 50]]\n",
    "x, y = np.random.multivariate_normal(positive_center, positive_sigma, 150).T\n",
    "ls= LabeledSet(2)\n",
    "for i in range(len(x)):\n",
    "    ls.addExample((x[i],y[i]),1)\n",
    "#Negative\n",
    "negative_center = [-20, -20]\n",
    "negative_sigma = [[10, 0], [0, 50]]\n",
    "x, y = np.random.multivariate_normal(negative_center, negative_sigma, 150).T\n",
    "for i in range(len(x)):\n",
    "    ls.addExample((x[i],y[i]),-1)\n"
   ]
  },
  {
   "cell_type": "markdown",
   "metadata": {},
   "source": [
    "Le data set peut être affiché en utilisant matplotlib (pour vérifier) et plus précisément la fonction `matplotlib.pyplot.scatter` permettant de dessiner un nuage de points - http://matplotlib.org/api/pyplot_api.html#matplotlib.pyplot.scatter -"
   ]
  },
  {
   "cell_type": "code",
   "execution_count": 9,
   "metadata": {
    "collapsed": true
   },
   "outputs": [],
   "source": [
    "import matplotlib.pyplot as plt\n",
    "# Permet d'afficher les figures directement dans le notebook:\n",
    "%matplotlib inline\n",
    "\n",
    "def plot2DSet(dataset):\n",
    "    plt.scatter(dataset.x[0:int(dataset.size()/2),0],dataset.x[0:int(dataset.size()/2),1],marker='o')\n",
    "    plt.scatter(dataset.x[int(dataset.size()/2):dataset.size(),0],dataset.x[int(dataset.size()/2):dataset.size(),1],marker='x')"
   ]
  },
  {
   "cell_type": "code",
   "execution_count": 10,
   "metadata": {},
   "outputs": [
    {
     "data": {
      "image/png": "[encoded data removed]",
      "text/plain": [
       "<matplotlib.figure.Figure at 0x7f0fb527ac88>"
      ]
     },
     "metadata": {},
     "output_type": "display_data"
    }
   ],
   "source": [
    "plot2DSet(ls)"
   ]
  },
  {
   "cell_type": "markdown",
   "metadata": {},
   "source": [
    "### Étape 2: les classifieurs\n",
    "\n",
    "Un classifieur (binaire) permet, pour chaque point d'entrée, de calculer un score. Si le score est négatif, la donnée est associée à la classe $-1$, sinon à la classe $+1$. Commençons par définir une classe permettant par la suite de définir plusieurs classifieurs.\n",
    "\n",
    "Pour l'instant les méthodes `train` et `predict` ne seront pas définies car elles dépendent du modèle.\n",
    "\n",
    "La fonction `computeAccuracy` renvoie le pourcentage de points bien classés. Elle peut être définie dès maintenant.\n",
    "\n"
   ]
  },
  {
   "cell_type": "code",
   "execution_count": 11,
   "metadata": {
    "collapsed": true
   },
   "outputs": [],
   "source": [
    "class Classifier:\n",
    "    def __init__(self, input_dimension):\n",
    "        raise NotImplementedError(\"Please Implement this method\")\n",
    "    \n",
    "    \n",
    "    #Permet de calculer la prediction sur x => renvoie un score\n",
    "    def predict(self, x):\n",
    "        raise NotImplementedError(\"Please Implement this method\")\n",
    "\n",
    "    \n",
    "    #Permet d'entrainer le modele sur un ensemble de données\n",
    "    def train(self, labeledSet):\n",
    "        raise NotImplementedError(\"Please Implement this method\")\n",
    "    \n",
    "    #Permet de calculer la qualité du système \n",
    "    def accuracy(self, dataset):\n",
    "        S = 0\n",
    "        n = dataset.size()  \n",
    "        for i in range(n):\n",
    "            if ( self.predict (dataset.getX(i)) * dataset.getY(i) > 0 ) : \n",
    "                S += 1\n",
    "        return (S*100.00/n )"
   ]
  },
  {
   "cell_type": "markdown",
   "metadata": {},
   "source": [
    "Nous allons maintenant définir un classifieur linéaire aléatoire :\n",
    "- la fonction `predict` renvoie la valeur de $\\langle x | w\\rangle$ où $w$ est un vecteur (de taille `input_dimension`) tiré aléatoirement à la construction du classifieur.\n"
   ]
  },
  {
   "cell_type": "code",
   "execution_count": 12,
   "metadata": {
    "collapsed": true,
    "scrolled": true
   },
   "outputs": [],
   "source": [
    "class ClassifierRandom(Classifier):\n",
    "    \n",
    "    def __init__(self, input_dimension):\n",
    "        self.input_dimension=input_dimension\n",
    "        self.w=np.random.randn(input_dimension)\n",
    "        \n",
    "    def predict (self,x) :\n",
    "        return (np.dot(x,self.w))\n",
    "    \n",
    "    def train(self,X):\n",
    "        return"
   ]
  },
  {
   "cell_type": "markdown",
   "metadata": {},
   "source": [
    "Nous allons calculer la performance (*accuracy*) du classifieur random sur un ensemble de 100 points"
   ]
  },
  {
   "cell_type": "code",
   "execution_count": 13,
   "metadata": {
    "collapsed": true
   },
   "outputs": [],
   "source": [
    "def generate_Dataset(moy1 , moy2 , n):\n",
    "    positive_center = [ moy1 , moy1 ]\n",
    "    positive_sigma = [[10, 0], [0, 50]]\n",
    "    negative_center = [ moy2 , moy2 ]\n",
    "    negative_sigma = [[10, 0], [0, 50]]\n",
    "    x, y = np.random.multivariate_normal(positive_center, positive_sigma, n ).T\n",
    "    ls= LabeledSet(2)\n",
    "    for i in range(len(x)):\n",
    "        ls.addExample([x[i],y[i]],1)\n",
    "    x, y = np.random.multivariate_normal(negative_center, negative_sigma, n ).T\n",
    "    for i in range(len(x)):\n",
    "        ls.addExample([x[i],y[i]],-1)\n",
    "    return ls\n",
    "\n",
    "    \n"
   ]
  },
  {
   "cell_type": "code",
   "execution_count": 14,
   "metadata": {},
   "outputs": [
    {
     "data": {
      "text/plain": [
       "30.0"
      ]
     },
     "execution_count": 14,
     "metadata": {},
     "output_type": "execute_result"
    }
   ],
   "source": [
    "dataSet_100 = generate_Dataset(1,35,100)\n",
    "rnd_classifier = ClassifierRandom (2)\n",
    "rnd_classifier.train(dataSet_100)\n",
    "rnd_classifier.accuracy(dataSet_100)"
   ]
  },
  {
   "cell_type": "markdown",
   "metadata": {},
   "source": [
    "Voici une fonction qui permet de dessiner la frontière de decision d'un classifieur. La valeur `step` permet de choisir la précision du dessin."
   ]
  },
  {
   "cell_type": "code",
   "execution_count": 15,
   "metadata": {
    "collapsed": true
   },
   "outputs": [],
   "source": [
    "def plot_frontiere(set, classifier, step=20):\n",
    "    mmax = set.x.max(0)\n",
    "    mmin = set.x.min(0)\n",
    "    x1grid, x2grid = np.meshgrid(np.linspace(mmin[0], mmax[0], step), np.linspace(mmin[1], mmax[1], step))\n",
    "    grid = np.hstack((x1grid.reshape(x1grid.size, 1), x2grid.reshape(x2grid.size, 1)))\n",
    "   \n",
    "    # calcul de la prediction pour chaque point de la grille\n",
    "    res = np.array([classifier.predict(grid[i,:]) for i in range(len(grid)) ])\n",
    "    res = res.reshape(x1grid.shape)\n",
    "    # tracé des frontieres\n",
    "    plt.contourf(x1grid, x2grid, res, colors=[\"red\", \"cyan\"], levels=[-1000,0,1000], linewidth=2)"
   ]
  },
  {
   "cell_type": "code",
   "execution_count": 16,
   "metadata": {},
   "outputs": [
    {
     "name": "stderr",
     "output_type": "stream",
     "text": [
      "/home/raouf/anaconda3/lib/python3.6/site-packages/matplotlib/contour.py:967: UserWarning: The following kwargs were not used by contour: 'linewidth'\n",
      "  s)\n"
     ]
    },
    {
     "data": {
      "image/png": "[encoded data removed]",
      "text/plain": [
       "<matplotlib.figure.Figure at 0x7f0fb19db630>"
      ]
     },
     "metadata": {},
     "output_type": "display_data"
    }
   ],
   "source": [
    "classifieur_random=ClassifierRandom(2)\n",
    "\n",
    "the_set=dataSet_100\n",
    "plot_frontiere(the_set,classifieur_random)\n",
    "plot2DSet(the_set)"
   ]
  },
  {
   "cell_type": "markdown",
   "metadata": {},
   "source": [
    "### Étape 3 : k-NN\n",
    "\n",
    "L'objectif est de définir le classifieur k-NN. Pour cela nous allons construire un tableau de distances que nous trierons grâce à la méthode `numpy.argsort`."
   ]
  },
  {
   "cell_type": "code",
   "execution_count": 17,
   "metadata": {
    "collapsed": true
   },
   "outputs": [],
   "source": [
    "class KNN(Classifier):\n",
    "   \n",
    "    def __init__(self, input_dimension , k ):\n",
    "        self.k = k \n",
    "        self.input_dimension = input_dimension\n",
    "        \n",
    "    #Permet de calculer la prediction sur x => renvoie un score\n",
    "    def predict(self, x):\n",
    "        distances =[]\n",
    "        for i in range (self.model.size()):\n",
    "            #Distance Euclédienne fait par moi même\n",
    "            # np.sqrt(( self.model.getX(i)[0] -  x[0] )**2  +  ( self.model.getX(i)[1] - x[1] )**2 )\n",
    "            #Pour des Dimensions énormes faut penser a utiliser une fonction  prédéfinie Ex : np.linalg.norm\n",
    "            distances.append( np.linalg.norm(self.model.getX(i)-x) ) \n",
    "        #Sort distances\n",
    "        distances = np.argsort(np.array(distances)) \n",
    "        S = 0 \n",
    "        for i in range(self.k):\n",
    "            #Pas la peine de faire la moyenne\n",
    "            S = S + self.model.getY(distances[i])\n",
    "        if ( S < 0 ) : return -1\n",
    "        return +1\n",
    "    \n",
    "        \n",
    "    #Permet d'entrainer le modèle sur un ensemble de données\n",
    "    def train(self, labeledSet):\n",
    "        self.model = labeledSet\n",
    "        \n",
    "            \n",
    "    \n",
    "            "
   ]
  },
  {
   "cell_type": "code",
   "execution_count": 18,
   "metadata": {},
   "outputs": [
    {
     "name": "stderr",
     "output_type": "stream",
     "text": [
      "/home/raouf/anaconda3/lib/python3.6/site-packages/matplotlib/contour.py:967: UserWarning: The following kwargs were not used by contour: 'linewidth'\n",
      "  s)\n"
     ]
    },
    {
     "data": {
      "image/png": "[encoded data removed]",
      "text/plain": [
       "<matplotlib.figure.Figure at 0x7f0fb1953550>"
      ]
     },
     "metadata": {},
     "output_type": "display_data"
    }
   ],
   "source": [
    "knn=KNN(2 , 15 )\n",
    "knn.train(the_set)\n",
    "plot_frontiere(the_set,knn,20)\n",
    "plot2DSet(the_set) "
   ]
  },
  {
   "cell_type": "code",
   "execution_count": 19,
   "metadata": {},
   "outputs": [
    {
     "data": {
      "text/plain": [
       "1"
      ]
     },
     "execution_count": 19,
     "metadata": {},
     "output_type": "execute_result"
    }
   ],
   "source": [
    "#SUr une nouvelle donnée\n",
    "knn.predict([10,10])"
   ]
  },
  {
   "cell_type": "code",
   "execution_count": 20,
   "metadata": {},
   "outputs": [
    {
     "data": {
      "text/plain": [
       "-1"
      ]
     },
     "execution_count": 20,
     "metadata": {},
     "output_type": "execute_result"
    }
   ],
   "source": [
    "#sur une donnée du model\n",
    "knn.predict(the_set.getX(180))"
   ]
  },
  {
   "cell_type": "markdown",
   "metadata": {},
   "source": [
    "### Étape 4: protocole expérimental\n",
    "\n",
    "Attention, lorsque vous testez un classifieur, il est nécessaire de considérer à la fois un ensemble d'apprentissage et un ensemble de test. La performance doit être évaluée sur l'ensemble de test (et non pas sur l'ensemble d'apprentissage)."
   ]
  },
  {
   "cell_type": "code",
   "execution_count": 21,
   "metadata": {},
   "outputs": [
    {
     "name": "stdout",
     "output_type": "stream",
     "text": [
      "The accuracy is :  100.0\n"
     ]
    }
   ],
   "source": [
    "#Prepare\n",
    "new_set = generate_Dataset(0,30,50)\n",
    "new_knn = KNN(2,10)\n",
    "#train on 80 values  ( 40 positive and 40 negative )\n",
    "trainSet = LabeledSet(2)\n",
    "vec = np.vstack( (new_set.x[:40] , new_set.x[50:90]) ) \n",
    "lab = np.vstack( (new_set.y[:40] , new_set.y[50:90]) ) \n",
    "n = int(vec.size / 2)\n",
    "for i in range(n) :\n",
    "    trainSet.addExample(vec[i],lab[i])\n",
    "new_knn.train ( trainSet )\n",
    "#test on 20 values  ( 10 positive and 10 negative )\n",
    "testSet = LabeledSet(2)\n",
    "vec = np.vstack( (new_set.x[40:50] , new_set.x[90:]) )\n",
    "lab = np.vstack( (new_set.y[40:50] , new_set.y[90:]) )\n",
    "n = int(vec.size / 2)\n",
    "for i in range(n) :\n",
    "    testSet.addExample(vec[i],lab[i])\n",
    "print (\"The accuracy is : \", new_knn.accuracy(testSet) )\n",
    "# l'accuracy est 100%  car l'ensemble est petit et les points entre les 2 groupes\n",
    "# sont très loins donc il se trompera jamais\n",
    "#Faut Varier le generateData  les 2 moyennes  pour voir  des résultats Différents"
   ]
  },
  {
   "cell_type": "markdown",
   "metadata": {},
   "source": [
    "#### Travail libre\n",
    "\n",
    "Comparer la performance (en train et test) de plusieurs classifieurs KNN avec différentes valeurs de k. Que pouvez vous constater ?\n",
    "Idéalement, vous tracerez la performance (accuracy) en fonction de la valeur de k.\n",
    "Essayez avec différentes configurations de gaussiennes."
   ]
  },
  {
   "cell_type": "code",
   "execution_count": 22,
   "metadata": {
    "collapsed": true
   },
   "outputs": [],
   "source": [
    "def Train_Test_Split(dataset, training_percent):\n",
    "    #Pré-conditions\n",
    "    if (training_percent > 1 ) :\n",
    "        training_percent = 1 \n",
    "    elif (training_percent < 0 ) : \n",
    "        training_percent = 0\n",
    "    \n",
    "    #Constantes\n",
    "    size = dataset.size()\n",
    "    end_class1_Train = int(size*training_percent/2)\n",
    "    end_class2_Train = int(size/2 + size*training_percent/2 )\n",
    "    \n",
    "    #Préparer  les données d'apprentissage d'une manière équitable entre les deux classes \n",
    "    trainSet = LabeledSet(2)\n",
    "    vec = np.vstack( (dataset.x[:end_class1_Train] , dataset.x[int(size/2):end_class2_Train]) ) \n",
    "    lab = np.vstack( (dataset.y[:end_class1_Train] , dataset.y[int(size/2):end_class2_Train]) ) \n",
    "    n = len(vec)\n",
    "    for i in range(n) :\n",
    "        trainSet.addExample(vec[i],lab[i])\n",
    "\n",
    "    #Préparer  les données de Test d'une manière équitable entre les deux classes \n",
    "    testSet = LabeledSet(2)\n",
    "    vec = np.vstack( (dataset.x[end_class1_Train:int(size/2)] , dataset.x[end_class2_Train:]) )\n",
    "    lab = np.vstack( (dataset.y[end_class1_Train:int(size/2)] , dataset.y[end_class2_Train:]) )\n",
    "    n = len(vec)\n",
    "    for i in range(n) :\n",
    "        testSet.addExample(vec[i],lab[i])\n",
    "        \n",
    "    return trainSet , testSet"
   ]
  },
  {
   "cell_type": "code",
   "execution_count": 24,
   "metadata": {},
   "outputs": [
    {
     "name": "stdout",
     "output_type": "stream",
     "text": [
      "for k =  0  The accuracy is :  50.0\n",
      "for k =  1  The accuracy is :  76.66666666666667\n",
      "for k =  2  The accuracy is :  80.0\n",
      "for k =  3  The accuracy is :  76.66666666666667\n",
      "for k =  4  The accuracy is :  86.66666666666667\n",
      "for k =  5  The accuracy is :  93.33333333333333\n",
      "for k =  6  The accuracy is :  93.33333333333333\n",
      "for k =  7  The accuracy is :  86.66666666666667\n",
      "for k =  8  The accuracy is :  93.33333333333333\n",
      "for k =  9  The accuracy is :  80.0\n",
      "for k =  10  The accuracy is :  90.0\n",
      "for k =  11  The accuracy is :  90.0\n",
      "for k =  12  The accuracy is :  90.0\n",
      "for k =  13  The accuracy is :  93.33333333333333\n",
      "for k =  14  The accuracy is :  90.0\n",
      "for k =  15  The accuracy is :  93.33333333333333\n",
      "for k =  16  The accuracy is :  93.33333333333333\n",
      "for k =  17  The accuracy is :  93.33333333333333\n",
      "for k =  18  The accuracy is :  90.0\n",
      "for k =  19  The accuracy is :  93.33333333333333\n",
      "for k =  20  The accuracy is :  93.33333333333333\n",
      "for k =  21  The accuracy is :  93.33333333333333\n",
      "for k =  22  The accuracy is :  93.33333333333333\n",
      "for k =  23  The accuracy is :  90.0\n",
      "for k =  24  The accuracy is :  90.0\n",
      "for k =  25  The accuracy is :  90.0\n",
      "for k =  26  The accuracy is :  90.0\n",
      "for k =  27  The accuracy is :  90.0\n",
      "for k =  28  The accuracy is :  90.0\n",
      "for k =  29  The accuracy is :  90.0\n",
      "for k =  30  The accuracy is :  90.0\n",
      "for k =  31  The accuracy is :  90.0\n",
      "for k =  32  The accuracy is :  93.33333333333333\n",
      "for k =  33  The accuracy is :  90.0\n",
      "for k =  34  The accuracy is :  93.33333333333333\n",
      "for k =  35  The accuracy is :  90.0\n",
      "for k =  36  The accuracy is :  93.33333333333333\n",
      "for k =  37  The accuracy is :  93.33333333333333\n",
      "for k =  38  The accuracy is :  93.33333333333333\n",
      "for k =  39  The accuracy is :  93.33333333333333\n",
      "for k =  40  The accuracy is :  90.0\n",
      "for k =  41  The accuracy is :  90.0\n",
      "for k =  42  The accuracy is :  90.0\n",
      "for k =  43  The accuracy is :  93.33333333333333\n",
      "for k =  44  The accuracy is :  90.0\n",
      "for k =  45  The accuracy is :  93.33333333333333\n",
      "for k =  46  The accuracy is :  93.33333333333333\n",
      "for k =  47  The accuracy is :  93.33333333333333\n",
      "for k =  48  The accuracy is :  93.33333333333333\n",
      "for k =  49  The accuracy is :  93.33333333333333\n",
      "for k =  50  The accuracy is :  90.0\n",
      "for k =  51  The accuracy is :  90.0\n",
      "for k =  52  The accuracy is :  90.0\n",
      "for k =  53  The accuracy is :  93.33333333333333\n",
      "for k =  54  The accuracy is :  93.33333333333333\n",
      "for k =  55  The accuracy is :  93.33333333333333\n",
      "for k =  56  The accuracy is :  90.0\n",
      "for k =  57  The accuracy is :  86.66666666666667\n",
      "for k =  58  The accuracy is :  90.0\n",
      "for k =  59  The accuracy is :  93.33333333333333\n",
      "for k =  60  The accuracy is :  90.0\n",
      "for k =  61  The accuracy is :  90.0\n",
      "for k =  62  The accuracy is :  90.0\n",
      "for k =  63  The accuracy is :  86.66666666666667\n",
      "for k =  64  The accuracy is :  90.0\n",
      "for k =  65  The accuracy is :  90.0\n",
      "for k =  66  The accuracy is :  93.33333333333333\n",
      "for k =  67  The accuracy is :  90.0\n",
      "for k =  68  The accuracy is :  93.33333333333333\n",
      "for k =  69  The accuracy is :  90.0\n",
      "for k =  70  The accuracy is :  86.66666666666667\n",
      "for k =  71  The accuracy is :  86.66666666666667\n",
      "for k =  72  The accuracy is :  90.0\n",
      "for k =  73  The accuracy is :  93.33333333333333\n",
      "for k =  74  The accuracy is :  90.0\n",
      "for k =  75  The accuracy is :  90.0\n",
      "for k =  76  The accuracy is :  90.0\n",
      "for k =  77  The accuracy is :  90.0\n",
      "for k =  78  The accuracy is :  90.0\n",
      "for k =  79  The accuracy is :  86.66666666666667\n",
      "for k =  80  The accuracy is :  86.66666666666667\n",
      "for k =  81  The accuracy is :  86.66666666666667\n",
      "for k =  82  The accuracy is :  86.66666666666667\n",
      "for k =  83  The accuracy is :  86.66666666666667\n",
      "for k =  84  The accuracy is :  86.66666666666667\n",
      "for k =  85  The accuracy is :  86.66666666666667\n",
      "for k =  86  The accuracy is :  86.66666666666667\n",
      "for k =  87  The accuracy is :  86.66666666666667\n",
      "for k =  88  The accuracy is :  86.66666666666667\n",
      "for k =  89  The accuracy is :  86.66666666666667\n",
      "for k =  90  The accuracy is :  86.66666666666667\n",
      "for k =  91  The accuracy is :  86.66666666666667\n",
      "for k =  92  The accuracy is :  86.66666666666667\n",
      "for k =  93  The accuracy is :  86.66666666666667\n",
      "for k =  94  The accuracy is :  86.66666666666667\n",
      "for k =  95  The accuracy is :  86.66666666666667\n",
      "for k =  96  The accuracy is :  86.66666666666667\n",
      "for k =  97  The accuracy is :  86.66666666666667\n",
      "for k =  98  The accuracy is :  86.66666666666667\n",
      "for k =  99  The accuracy is :  86.66666666666667\n",
      "for k =  100  The accuracy is :  86.66666666666667\n",
      "for k =  101  The accuracy is :  83.33333333333333\n",
      "for k =  102  The accuracy is :  83.33333333333333\n",
      "for k =  103  The accuracy is :  80.0\n",
      "for k =  104  The accuracy is :  80.0\n",
      "for k =  105  The accuracy is :  80.0\n",
      "for k =  106  The accuracy is :  80.0\n",
      "for k =  107  The accuracy is :  80.0\n",
      "for k =  108  The accuracy is :  80.0\n",
      "for k =  109  The accuracy is :  80.0\n",
      "for k =  110  The accuracy is :  80.0\n",
      "for k =  111  The accuracy is :  80.0\n",
      "for k =  112  The accuracy is :  80.0\n",
      "for k =  113  The accuracy is :  80.0\n",
      "for k =  114  The accuracy is :  80.0\n",
      "for k =  115  The accuracy is :  80.0\n",
      "for k =  116  The accuracy is :  80.0\n",
      "for k =  117  The accuracy is :  80.0\n",
      "for k =  118  The accuracy is :  83.33333333333333\n",
      "for k =  119  The accuracy is :  80.0\n",
      "for k =  120  The accuracy is :  80.0\n",
      "for k =  121  The accuracy is :  80.0\n",
      "for k =  122  The accuracy is :  80.0\n",
      "for k =  123  The accuracy is :  80.0\n",
      "for k =  124  The accuracy is :  80.0\n",
      "for k =  125  The accuracy is :  80.0\n",
      "for k =  126  The accuracy is :  80.0\n",
      "for k =  127  The accuracy is :  80.0\n",
      "for k =  128  The accuracy is :  80.0\n",
      "for k =  129  The accuracy is :  80.0\n",
      "for k =  130  The accuracy is :  80.0\n",
      "for k =  131  The accuracy is :  80.0\n",
      "for k =  132  The accuracy is :  80.0\n",
      "for k =  133  The accuracy is :  80.0\n",
      "for k =  134  The accuracy is :  80.0\n",
      "for k =  135  The accuracy is :  80.0\n",
      "for k =  136  The accuracy is :  80.0\n",
      "for k =  137  The accuracy is :  80.0\n",
      "for k =  138  The accuracy is :  80.0\n",
      "for k =  139  The accuracy is :  80.0\n",
      "for k =  140  The accuracy is :  80.0\n",
      "for k =  141  The accuracy is :  80.0\n",
      "for k =  142  The accuracy is :  80.0\n",
      "for k =  143  The accuracy is :  80.0\n",
      "for k =  144  The accuracy is :  80.0\n",
      "for k =  145  The accuracy is :  80.0\n",
      "for k =  146  The accuracy is :  80.0\n",
      "for k =  147  The accuracy is :  80.0\n",
      "for k =  148  The accuracy is :  80.0\n",
      "for k =  149  The accuracy is :  80.0\n",
      "for k =  150  The accuracy is :  80.0\n",
      "for k =  151  The accuracy is :  80.0\n",
      "for k =  152  The accuracy is :  80.0\n",
      "for k =  153  The accuracy is :  80.0\n",
      "for k =  154  The accuracy is :  80.0\n",
      "for k =  155  The accuracy is :  80.0\n",
      "for k =  156  The accuracy is :  80.0\n",
      "for k =  157  The accuracy is :  80.0\n",
      "for k =  158  The accuracy is :  80.0\n",
      "for k =  159  The accuracy is :  80.0\n",
      "for k =  160  The accuracy is :  80.0\n",
      "for k =  161  The accuracy is :  80.0\n",
      "for k =  162  The accuracy is :  80.0\n",
      "for k =  163  The accuracy is :  80.0\n",
      "for k =  164  The accuracy is :  80.0\n",
      "for k =  165  The accuracy is :  80.0\n",
      "for k =  166  The accuracy is :  80.0\n",
      "for k =  167  The accuracy is :  80.0\n",
      "for k =  168  The accuracy is :  80.0\n",
      "for k =  169  The accuracy is :  80.0\n",
      "for k =  170  The accuracy is :  80.0\n",
      "for k =  171  The accuracy is :  80.0\n",
      "for k =  172  The accuracy is :  80.0\n",
      "for k =  173  The accuracy is :  80.0\n",
      "for k =  174  The accuracy is :  80.0\n",
      "for k =  175  The accuracy is :  80.0\n",
      "for k =  176  The accuracy is :  80.0\n",
      "for k =  177  The accuracy is :  76.66666666666667\n",
      "for k =  178  The accuracy is :  80.0\n",
      "for k =  179  The accuracy is :  76.66666666666667\n",
      "for k =  180  The accuracy is :  80.0\n",
      "for k =  181  The accuracy is :  76.66666666666667\n",
      "for k =  182  The accuracy is :  80.0\n",
      "for k =  183  The accuracy is :  80.0\n",
      "for k =  184  The accuracy is :  80.0\n",
      "for k =  185  The accuracy is :  80.0\n",
      "for k =  186  The accuracy is :  80.0\n",
      "for k =  187  The accuracy is :  80.0\n",
      "for k =  188  The accuracy is :  80.0\n",
      "for k =  189  The accuracy is :  76.66666666666667\n",
      "for k =  190  The accuracy is :  80.0\n",
      "for k =  191  The accuracy is :  76.66666666666667\n",
      "for k =  192  The accuracy is :  76.66666666666667\n",
      "for k =  193  The accuracy is :  76.66666666666667\n",
      "for k =  194  The accuracy is :  76.66666666666667\n",
      "for k =  195  The accuracy is :  76.66666666666667\n",
      "for k =  196  The accuracy is :  80.0\n",
      "for k =  197  The accuracy is :  76.66666666666667\n",
      "for k =  198  The accuracy is :  80.0\n",
      "for k =  199  The accuracy is :  80.0\n"
     ]
    },
    {
     "data": {
      "image/png": "[encoded data removed]",
      "text/plain": [
       "<matplotlib.figure.Figure at 0x7f0fb18f90f0>"
      ]
     },
     "metadata": {},
     "output_type": "display_data"
    }
   ],
   "source": [
    "# pour une seule gaussienne\n",
    "new_set = generate_Dataset(1,5,150)\n",
    "trainSet , testSet = Train_Test_Split(new_set,0.9)\n",
    "k_list = list()\n",
    "accuracy_list = list()\n",
    "\n",
    "\n",
    "for k in range (200):\n",
    "    k_list.append(k)\n",
    "    new_knn = KNN(2,k)\n",
    "    new_knn.train ( trainSet )\n",
    "    acc = new_knn.accuracy(testSet)\n",
    "    accuracy_list.append(acc)\n",
    "    print (\"for k = \",k,\" The accuracy is : \", acc  )\n",
    "    \n",
    "plt.plot( k_list ,accuracy_list )\n",
    "plt.axis([0, 200, 0, 100])\n",
    "plt.show()"
   ]
  },
  {
   "cell_type": "markdown",
   "metadata": {},
   "source": [
    "__ATTENTION__ !\n",
    "\n",
    "_Préconditions_ : ( K >= TrainSet.size() )  \n",
    "sinon on aura une exception out of bounds   mais bon ça reste gérable aussi en programmation si\n",
    " bound_loop = max ( self.k , model.size() )   pour la boucle"
   ]
  },
  {
   "cell_type": "code",
   "execution_count": 25,
   "metadata": {},
   "outputs": [
    {
     "data": {
      "image/png": "[encoded data removed]",
      "text/plain": [
       "<matplotlib.figure.Figure at 0x7f0fb1871588>"
      ]
     },
     "metadata": {},
     "output_type": "display_data"
    }
   ],
   "source": [
    "# pour plusieurs configurations gaussiennes\n",
    "\n",
    "#premiere config des points très loins  moyenne 1 vs 35\n",
    "k_list1 = list()\n",
    "accuracy_list1 = list()\n",
    "new_set = generate_Dataset(1,35,150)\n",
    "trainSet , testSet = Train_Test_Split(new_set,0.8)\n",
    "\n",
    "for k in range (200):\n",
    "    k_list1.append(k)\n",
    "    new_knn = KNN(2,k)\n",
    "    new_knn.train ( trainSet )\n",
    "    acc = new_knn.accuracy(testSet)\n",
    "    accuracy_list1.append(acc)\n",
    "    \n",
    "\n",
    "#deuxieme config\n",
    "k_list2 = list()\n",
    "accuracy_list2 = list()\n",
    "new_set = generate_Dataset(1,10,150)\n",
    "trainSet , testSet = Train_Test_Split(new_set,0.8)\n",
    "\n",
    "for k in range (200):\n",
    "    k_list2.append(k)\n",
    "    new_knn = KNN(2,k)\n",
    "    new_knn.train ( trainSet )\n",
    "    acc = new_knn.accuracy(testSet)\n",
    "    accuracy_list2.append(acc)\n",
    "    \n",
    "#troisieme config\n",
    "k_list3 = list()\n",
    "accuracy_list3 = list()\n",
    "new_set = generate_Dataset(1,5,150)\n",
    "trainSet , testSet = Train_Test_Split(new_set,0.8)\n",
    "\n",
    "for k in range (200):\n",
    "    k_list3.append(k)\n",
    "    new_knn = KNN(2,k)\n",
    "    new_knn.train ( trainSet )\n",
    "    acc = new_knn.accuracy(testSet)\n",
    "    accuracy_list3.append(acc)\n",
    "    \n",
    "#quatrieme config\n",
    "k_list4 = list()\n",
    "accuracy_list4 = list()\n",
    "new_set = generate_Dataset(1,1.5,150)\n",
    "trainSet , testSet = Train_Test_Split(new_set,0.8)\n",
    "\n",
    "for k in range (200):\n",
    "    k_list4.append(k)\n",
    "    new_knn = KNN(2,k)\n",
    "    new_knn.train ( trainSet )\n",
    "    acc = new_knn.accuracy(testSet)\n",
    "    accuracy_list4.append(acc)\n",
    "    \n",
    "plt.plot( k_list1 ,accuracy_list1 ,'r' ,  k_list2 ,accuracy_list2 ,'b' ,\n",
    "          k_list3 ,accuracy_list3 ,'g' ,  k_list4 ,accuracy_list4 ,'k'  )\n",
    "\n",
    "plt.legend(['Données très séparées', 'Données séparées',\n",
    "            'Données peu séparées', 'Données mélangée'], loc='lower right')\n",
    "plt.axis([0, 200, 0, 102])\n",
    "plt.show()"
   ]
  },
  {
   "cell_type": "markdown",
   "metadata": {},
   "source": [
    "### Étape 5 : données réelles UCI\n",
    "\n",
    "Plusieurs datasets sont téléchargeables depuis: http://mldata.org\n",
    "\n",
    "Voici la fonction permettant de les charger (en spécifiant leur nom). La fonction se charge de charger les données depuis le web."
   ]
  },
  {
   "cell_type": "code",
   "execution_count": null,
   "metadata": {
    "collapsed": true
   },
   "outputs": [],
   "source": [
    "from sklearn.datasets import fetch_mldata\n",
    "\n",
    "def loadFile(name):\n",
    "    data = fetch_mldata(name, data_home='.')\n",
    "    unique=np.unique(data.target)\n",
    "    for i in range(len(data.target)):\n",
    "        if (data.target[i]==unique[0]):\n",
    "            data.target[i]=1\n",
    "        else:\n",
    "            data.target[i]=-1\n",
    "    return data\n",
    "            \n",
    "data = loadFile('breast-cancer_scale')\n",
    "#Les donnees sont dans data.data et data.target"
   ]
  },
  {
   "cell_type": "markdown",
   "metadata": {},
   "source": [
    "Écrire la fonction de split permettant de découper les données en un ensemble d'apprentissage et un ensemble de test."
   ]
  },
  {
   "cell_type": "markdown",
   "metadata": {
    "collapsed": true
   },
   "source": [
    "* Elle déjà faite son prototype est : \n",
    "```\n",
    "def Train_Test_Split(dataset, training_percent)\n",
    "```"
   ]
  },
  {
   "cell_type": "markdown",
   "metadata": {},
   "source": [
    "Tester différents k-NN , pour différents k, et tracer la courbe de performance (accuracy) pour les données d'apprentissage et les données de test."
   ]
  },
  {
   "cell_type": "code",
   "execution_count": 32,
   "metadata": {},
   "outputs": [
    {
     "data": {
      "image/png": "[encoded data removed]",
      "text/plain": [
       "<matplotlib.figure.Figure at 0x7f0fa7879198>"
      ]
     },
     "metadata": {},
     "output_type": "display_data"
    }
   ],
   "source": [
    "k_listreal = list()\n",
    "accuracy_listreal = list()\n",
    "dimension = len ( data.data[0] ) \n",
    "#### Préparer notre labeledSet\n",
    "dataset = LabeledSet (dimension)\n",
    "for i in range(len(data.data)):\n",
    "        dataset.addExample(data.data[i],data.target[i])\n",
    "trainSet , testSet = Train_Test_Split(dataset,0.8)\n",
    "for k in range (1,500,20):\n",
    "    k_listreal.append(k)\n",
    "    new_knn = KNN(dataset.getInputDimension,k)\n",
    "    new_knn.train ( trainSet )\n",
    "    acc = new_knn.accuracy(testSet)\n",
    "    accuracy_listreal.append(acc)\n",
    "#to clean the entire plot\n",
    "######################\n",
    "plt.plot( k_listreal  ,accuracy_listreal ,'r'   )\n",
    "plt.axis([0, 205, 0, 105])\n",
    "plt.show()"
   ]
  }
 ],
 "metadata": {
  "kernelspec": {
   "display_name": "Python 3",
   "language": "python",
   "name": "python3"
  },
  "language_info": {
   "codemirror_mode": {
    "name": "ipython",
    "version": 3
   },
   "file_extension": ".py",
   "mimetype": "text/x-python",
   "name": "python",
   "nbconvert_exporter": "python",
   "pygments_lexer": "ipython3",
   "version": "3.6.3"
  }
 },
 "nbformat": 4,
 "nbformat_minor": 1
}
